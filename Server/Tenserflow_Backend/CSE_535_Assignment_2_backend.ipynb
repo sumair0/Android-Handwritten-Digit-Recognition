{
  "nbformat": 4,
  "nbformat_minor": 0,
  "metadata": {
    "colab": {
      "provenance": [],
      "collapsed_sections": []
    },
    "kernelspec": {
      "name": "python3",
      "display_name": "Python 3"
    },
    "language_info": {
      "name": "python"
    }
  },
  "cells": [
    {
      "cell_type": "code",
      "execution_count": null,
      "metadata": {
        "id": "YB82i2HH6B38"
      },
      "outputs": [],
      "source": [
        "import pandas as pd\n",
        "import numpy as np\n",
        "\n",
        "import seaborn as sns\n",
        "\n",
        "import matplotlib.pyplot as plt\n",
        "%matplotlib inline\n",
        "\n",
        "import tensorflow as tf\n",
        "\n",
        "from tensorflow.keras import layers\n",
        "from tensorflow.keras.models import Model\n",
        "from tensorflow.keras import metrics\n",
        "from tensorflow.keras import backend as K"
      ]
    },
    {
      "cell_type": "code",
      "source": [
        "mnist_train = pd.read_csv(\"train.csv\")\n",
        "mnist_test = pd.read_csv(\"test.csv\")"
      ],
      "metadata": {
        "id": "Se1ytdJ66XF_"
      },
      "execution_count": null,
      "outputs": []
    },
    {
      "cell_type": "code",
      "source": [
        "print(mnist_train.shape, mnist_test.shape)"
      ],
      "metadata": {
        "colab": {
          "base_uri": "https://localhost:8080/"
        },
        "id": "ED0cItIr7fcT",
        "outputId": "f879fdc9-c934-409e-c5a6-737df6fd221a"
      },
      "execution_count": null,
      "outputs": [
        {
          "output_type": "stream",
          "name": "stdout",
          "text": [
            "(42000, 785) (28000, 784)\n"
          ]
        }
      ]
    },
    {
      "cell_type": "code",
      "source": [
        "mnist_train.head()"
      ],
      "metadata": {
        "colab": {
          "base_uri": "https://localhost:8080/",
          "height": 300
        },
        "id": "BTXSv3Rm7isg",
        "outputId": "0e0269ba-9b50-4b91-8282-e47072a75984"
      },
      "execution_count": null,
      "outputs": [
        {
          "output_type": "execute_result",
          "data": {
            "text/plain": [
              "   label  pixel0  pixel1  pixel2  pixel3  pixel4  pixel5  pixel6  pixel7  \\\n",
              "0      1       0       0       0       0       0       0       0       0   \n",
              "1      0       0       0       0       0       0       0       0       0   \n",
              "2      1       0       0       0       0       0       0       0       0   \n",
              "3      4       0       0       0       0       0       0       0       0   \n",
              "4      0       0       0       0       0       0       0       0       0   \n",
              "\n",
              "   pixel8  ...  pixel774  pixel775  pixel776  pixel777  pixel778  pixel779  \\\n",
              "0       0  ...         0         0         0         0         0         0   \n",
              "1       0  ...         0         0         0         0         0         0   \n",
              "2       0  ...         0         0         0         0         0         0   \n",
              "3       0  ...         0         0         0         0         0         0   \n",
              "4       0  ...         0         0         0         0         0         0   \n",
              "\n",
              "   pixel780  pixel781  pixel782  pixel783  \n",
              "0         0         0         0         0  \n",
              "1         0         0         0         0  \n",
              "2         0         0         0         0  \n",
              "3         0         0         0         0  \n",
              "4         0         0         0         0  \n",
              "\n",
              "[5 rows x 785 columns]"
            ],
            "text/html": [
              "\n",
              "  <div id=\"df-871f1b6e-0f33-4e82-a857-8c9596b336c3\">\n",
              "    <div class=\"colab-df-container\">\n",
              "      <div>\n",
              "<style scoped>\n",
              "    .dataframe tbody tr th:only-of-type {\n",
              "        vertical-align: middle;\n",
              "    }\n",
              "\n",
              "    .dataframe tbody tr th {\n",
              "        vertical-align: top;\n",
              "    }\n",
              "\n",
              "    .dataframe thead th {\n",
              "        text-align: right;\n",
              "    }\n",
              "</style>\n",
              "<table border=\"1\" class=\"dataframe\">\n",
              "  <thead>\n",
              "    <tr style=\"text-align: right;\">\n",
              "      <th></th>\n",
              "      <th>label</th>\n",
              "      <th>pixel0</th>\n",
              "      <th>pixel1</th>\n",
              "      <th>pixel2</th>\n",
              "      <th>pixel3</th>\n",
              "      <th>pixel4</th>\n",
              "      <th>pixel5</th>\n",
              "      <th>pixel6</th>\n",
              "      <th>pixel7</th>\n",
              "      <th>pixel8</th>\n",
              "      <th>...</th>\n",
              "      <th>pixel774</th>\n",
              "      <th>pixel775</th>\n",
              "      <th>pixel776</th>\n",
              "      <th>pixel777</th>\n",
              "      <th>pixel778</th>\n",
              "      <th>pixel779</th>\n",
              "      <th>pixel780</th>\n",
              "      <th>pixel781</th>\n",
              "      <th>pixel782</th>\n",
              "      <th>pixel783</th>\n",
              "    </tr>\n",
              "  </thead>\n",
              "  <tbody>\n",
              "    <tr>\n",
              "      <th>0</th>\n",
              "      <td>1</td>\n",
              "      <td>0</td>\n",
              "      <td>0</td>\n",
              "      <td>0</td>\n",
              "      <td>0</td>\n",
              "      <td>0</td>\n",
              "      <td>0</td>\n",
              "      <td>0</td>\n",
              "      <td>0</td>\n",
              "      <td>0</td>\n",
              "      <td>...</td>\n",
              "      <td>0</td>\n",
              "      <td>0</td>\n",
              "      <td>0</td>\n",
              "      <td>0</td>\n",
              "      <td>0</td>\n",
              "      <td>0</td>\n",
              "      <td>0</td>\n",
              "      <td>0</td>\n",
              "      <td>0</td>\n",
              "      <td>0</td>\n",
              "    </tr>\n",
              "    <tr>\n",
              "      <th>1</th>\n",
              "      <td>0</td>\n",
              "      <td>0</td>\n",
              "      <td>0</td>\n",
              "      <td>0</td>\n",
              "      <td>0</td>\n",
              "      <td>0</td>\n",
              "      <td>0</td>\n",
              "      <td>0</td>\n",
              "      <td>0</td>\n",
              "      <td>0</td>\n",
              "      <td>...</td>\n",
              "      <td>0</td>\n",
              "      <td>0</td>\n",
              "      <td>0</td>\n",
              "      <td>0</td>\n",
              "      <td>0</td>\n",
              "      <td>0</td>\n",
              "      <td>0</td>\n",
              "      <td>0</td>\n",
              "      <td>0</td>\n",
              "      <td>0</td>\n",
              "    </tr>\n",
              "    <tr>\n",
              "      <th>2</th>\n",
              "      <td>1</td>\n",
              "      <td>0</td>\n",
              "      <td>0</td>\n",
              "      <td>0</td>\n",
              "      <td>0</td>\n",
              "      <td>0</td>\n",
              "      <td>0</td>\n",
              "      <td>0</td>\n",
              "      <td>0</td>\n",
              "      <td>0</td>\n",
              "      <td>...</td>\n",
              "      <td>0</td>\n",
              "      <td>0</td>\n",
              "      <td>0</td>\n",
              "      <td>0</td>\n",
              "      <td>0</td>\n",
              "      <td>0</td>\n",
              "      <td>0</td>\n",
              "      <td>0</td>\n",
              "      <td>0</td>\n",
              "      <td>0</td>\n",
              "    </tr>\n",
              "    <tr>\n",
              "      <th>3</th>\n",
              "      <td>4</td>\n",
              "      <td>0</td>\n",
              "      <td>0</td>\n",
              "      <td>0</td>\n",
              "      <td>0</td>\n",
              "      <td>0</td>\n",
              "      <td>0</td>\n",
              "      <td>0</td>\n",
              "      <td>0</td>\n",
              "      <td>0</td>\n",
              "      <td>...</td>\n",
              "      <td>0</td>\n",
              "      <td>0</td>\n",
              "      <td>0</td>\n",
              "      <td>0</td>\n",
              "      <td>0</td>\n",
              "      <td>0</td>\n",
              "      <td>0</td>\n",
              "      <td>0</td>\n",
              "      <td>0</td>\n",
              "      <td>0</td>\n",
              "    </tr>\n",
              "    <tr>\n",
              "      <th>4</th>\n",
              "      <td>0</td>\n",
              "      <td>0</td>\n",
              "      <td>0</td>\n",
              "      <td>0</td>\n",
              "      <td>0</td>\n",
              "      <td>0</td>\n",
              "      <td>0</td>\n",
              "      <td>0</td>\n",
              "      <td>0</td>\n",
              "      <td>0</td>\n",
              "      <td>...</td>\n",
              "      <td>0</td>\n",
              "      <td>0</td>\n",
              "      <td>0</td>\n",
              "      <td>0</td>\n",
              "      <td>0</td>\n",
              "      <td>0</td>\n",
              "      <td>0</td>\n",
              "      <td>0</td>\n",
              "      <td>0</td>\n",
              "      <td>0</td>\n",
              "    </tr>\n",
              "  </tbody>\n",
              "</table>\n",
              "<p>5 rows × 785 columns</p>\n",
              "</div>\n",
              "      <button class=\"colab-df-convert\" onclick=\"convertToInteractive('df-871f1b6e-0f33-4e82-a857-8c9596b336c3')\"\n",
              "              title=\"Convert this dataframe to an interactive table.\"\n",
              "              style=\"display:none;\">\n",
              "        \n",
              "  <svg xmlns=\"http://www.w3.org/2000/svg\" height=\"24px\"viewBox=\"0 0 24 24\"\n",
              "       width=\"24px\">\n",
              "    <path d=\"M0 0h24v24H0V0z\" fill=\"none\"/>\n",
              "    <path d=\"M18.56 5.44l.94 2.06.94-2.06 2.06-.94-2.06-.94-.94-2.06-.94 2.06-2.06.94zm-11 1L8.5 8.5l.94-2.06 2.06-.94-2.06-.94L8.5 2.5l-.94 2.06-2.06.94zm10 10l.94 2.06.94-2.06 2.06-.94-2.06-.94-.94-2.06-.94 2.06-2.06.94z\"/><path d=\"M17.41 7.96l-1.37-1.37c-.4-.4-.92-.59-1.43-.59-.52 0-1.04.2-1.43.59L10.3 9.45l-7.72 7.72c-.78.78-.78 2.05 0 2.83L4 21.41c.39.39.9.59 1.41.59.51 0 1.02-.2 1.41-.59l7.78-7.78 2.81-2.81c.8-.78.8-2.07 0-2.86zM5.41 20L4 18.59l7.72-7.72 1.47 1.35L5.41 20z\"/>\n",
              "  </svg>\n",
              "      </button>\n",
              "      \n",
              "  <style>\n",
              "    .colab-df-container {\n",
              "      display:flex;\n",
              "      flex-wrap:wrap;\n",
              "      gap: 12px;\n",
              "    }\n",
              "\n",
              "    .colab-df-convert {\n",
              "      background-color: #E8F0FE;\n",
              "      border: none;\n",
              "      border-radius: 50%;\n",
              "      cursor: pointer;\n",
              "      display: none;\n",
              "      fill: #1967D2;\n",
              "      height: 32px;\n",
              "      padding: 0 0 0 0;\n",
              "      width: 32px;\n",
              "    }\n",
              "\n",
              "    .colab-df-convert:hover {\n",
              "      background-color: #E2EBFA;\n",
              "      box-shadow: 0px 1px 2px rgba(60, 64, 67, 0.3), 0px 1px 3px 1px rgba(60, 64, 67, 0.15);\n",
              "      fill: #174EA6;\n",
              "    }\n",
              "\n",
              "    [theme=dark] .colab-df-convert {\n",
              "      background-color: #3B4455;\n",
              "      fill: #D2E3FC;\n",
              "    }\n",
              "\n",
              "    [theme=dark] .colab-df-convert:hover {\n",
              "      background-color: #434B5C;\n",
              "      box-shadow: 0px 1px 3px 1px rgba(0, 0, 0, 0.15);\n",
              "      filter: drop-shadow(0px 1px 2px rgba(0, 0, 0, 0.3));\n",
              "      fill: #FFFFFF;\n",
              "    }\n",
              "  </style>\n",
              "\n",
              "      <script>\n",
              "        const buttonEl =\n",
              "          document.querySelector('#df-871f1b6e-0f33-4e82-a857-8c9596b336c3 button.colab-df-convert');\n",
              "        buttonEl.style.display =\n",
              "          google.colab.kernel.accessAllowed ? 'block' : 'none';\n",
              "\n",
              "        async function convertToInteractive(key) {\n",
              "          const element = document.querySelector('#df-871f1b6e-0f33-4e82-a857-8c9596b336c3');\n",
              "          const dataTable =\n",
              "            await google.colab.kernel.invokeFunction('convertToInteractive',\n",
              "                                                     [key], {});\n",
              "          if (!dataTable) return;\n",
              "\n",
              "          const docLinkHtml = 'Like what you see? Visit the ' +\n",
              "            '<a target=\"_blank\" href=https://colab.research.google.com/notebooks/data_table.ipynb>data table notebook</a>'\n",
              "            + ' to learn more about interactive tables.';\n",
              "          element.innerHTML = '';\n",
              "          dataTable['output_type'] = 'display_data';\n",
              "          await google.colab.output.renderOutput(dataTable, element);\n",
              "          const docLink = document.createElement('div');\n",
              "          docLink.innerHTML = docLinkHtml;\n",
              "          element.appendChild(docLink);\n",
              "        }\n",
              "      </script>\n",
              "    </div>\n",
              "  </div>\n",
              "  "
            ]
          },
          "metadata": {},
          "execution_count": 4
        }
      ]
    },
    {
      "cell_type": "code",
      "source": [
        "mnist_train.describe()"
      ],
      "metadata": {
        "colab": {
          "base_uri": "https://localhost:8080/",
          "height": 394
        },
        "id": "TCyZVP7K7nNo",
        "outputId": "62eb7391-ae2c-4bed-d155-3176414dc51b"
      },
      "execution_count": null,
      "outputs": [
        {
          "output_type": "execute_result",
          "data": {
            "text/plain": [
              "              label   pixel0   pixel1   pixel2   pixel3   pixel4   pixel5  \\\n",
              "count  42000.000000  42000.0  42000.0  42000.0  42000.0  42000.0  42000.0   \n",
              "mean       4.456643      0.0      0.0      0.0      0.0      0.0      0.0   \n",
              "std        2.887730      0.0      0.0      0.0      0.0      0.0      0.0   \n",
              "min        0.000000      0.0      0.0      0.0      0.0      0.0      0.0   \n",
              "25%        2.000000      0.0      0.0      0.0      0.0      0.0      0.0   \n",
              "50%        4.000000      0.0      0.0      0.0      0.0      0.0      0.0   \n",
              "75%        7.000000      0.0      0.0      0.0      0.0      0.0      0.0   \n",
              "max        9.000000      0.0      0.0      0.0      0.0      0.0      0.0   \n",
              "\n",
              "        pixel6   pixel7   pixel8  ...      pixel774      pixel775  \\\n",
              "count  42000.0  42000.0  42000.0  ...  42000.000000  42000.000000   \n",
              "mean       0.0      0.0      0.0  ...      0.219286      0.117095   \n",
              "std        0.0      0.0      0.0  ...      6.312890      4.633819   \n",
              "min        0.0      0.0      0.0  ...      0.000000      0.000000   \n",
              "25%        0.0      0.0      0.0  ...      0.000000      0.000000   \n",
              "50%        0.0      0.0      0.0  ...      0.000000      0.000000   \n",
              "75%        0.0      0.0      0.0  ...      0.000000      0.000000   \n",
              "max        0.0      0.0      0.0  ...    254.000000    254.000000   \n",
              "\n",
              "           pixel776     pixel777      pixel778      pixel779  pixel780  \\\n",
              "count  42000.000000  42000.00000  42000.000000  42000.000000   42000.0   \n",
              "mean       0.059024      0.02019      0.017238      0.002857       0.0   \n",
              "std        3.274488      1.75987      1.894498      0.414264       0.0   \n",
              "min        0.000000      0.00000      0.000000      0.000000       0.0   \n",
              "25%        0.000000      0.00000      0.000000      0.000000       0.0   \n",
              "50%        0.000000      0.00000      0.000000      0.000000       0.0   \n",
              "75%        0.000000      0.00000      0.000000      0.000000       0.0   \n",
              "max      253.000000    253.00000    254.000000     62.000000       0.0   \n",
              "\n",
              "       pixel781  pixel782  pixel783  \n",
              "count   42000.0   42000.0   42000.0  \n",
              "mean        0.0       0.0       0.0  \n",
              "std         0.0       0.0       0.0  \n",
              "min         0.0       0.0       0.0  \n",
              "25%         0.0       0.0       0.0  \n",
              "50%         0.0       0.0       0.0  \n",
              "75%         0.0       0.0       0.0  \n",
              "max         0.0       0.0       0.0  \n",
              "\n",
              "[8 rows x 785 columns]"
            ],
            "text/html": [
              "\n",
              "  <div id=\"df-f6f4e0be-da18-4396-b5fd-bf9b11c8a45d\">\n",
              "    <div class=\"colab-df-container\">\n",
              "      <div>\n",
              "<style scoped>\n",
              "    .dataframe tbody tr th:only-of-type {\n",
              "        vertical-align: middle;\n",
              "    }\n",
              "\n",
              "    .dataframe tbody tr th {\n",
              "        vertical-align: top;\n",
              "    }\n",
              "\n",
              "    .dataframe thead th {\n",
              "        text-align: right;\n",
              "    }\n",
              "</style>\n",
              "<table border=\"1\" class=\"dataframe\">\n",
              "  <thead>\n",
              "    <tr style=\"text-align: right;\">\n",
              "      <th></th>\n",
              "      <th>label</th>\n",
              "      <th>pixel0</th>\n",
              "      <th>pixel1</th>\n",
              "      <th>pixel2</th>\n",
              "      <th>pixel3</th>\n",
              "      <th>pixel4</th>\n",
              "      <th>pixel5</th>\n",
              "      <th>pixel6</th>\n",
              "      <th>pixel7</th>\n",
              "      <th>pixel8</th>\n",
              "      <th>...</th>\n",
              "      <th>pixel774</th>\n",
              "      <th>pixel775</th>\n",
              "      <th>pixel776</th>\n",
              "      <th>pixel777</th>\n",
              "      <th>pixel778</th>\n",
              "      <th>pixel779</th>\n",
              "      <th>pixel780</th>\n",
              "      <th>pixel781</th>\n",
              "      <th>pixel782</th>\n",
              "      <th>pixel783</th>\n",
              "    </tr>\n",
              "  </thead>\n",
              "  <tbody>\n",
              "    <tr>\n",
              "      <th>count</th>\n",
              "      <td>42000.000000</td>\n",
              "      <td>42000.0</td>\n",
              "      <td>42000.0</td>\n",
              "      <td>42000.0</td>\n",
              "      <td>42000.0</td>\n",
              "      <td>42000.0</td>\n",
              "      <td>42000.0</td>\n",
              "      <td>42000.0</td>\n",
              "      <td>42000.0</td>\n",
              "      <td>42000.0</td>\n",
              "      <td>...</td>\n",
              "      <td>42000.000000</td>\n",
              "      <td>42000.000000</td>\n",
              "      <td>42000.000000</td>\n",
              "      <td>42000.00000</td>\n",
              "      <td>42000.000000</td>\n",
              "      <td>42000.000000</td>\n",
              "      <td>42000.0</td>\n",
              "      <td>42000.0</td>\n",
              "      <td>42000.0</td>\n",
              "      <td>42000.0</td>\n",
              "    </tr>\n",
              "    <tr>\n",
              "      <th>mean</th>\n",
              "      <td>4.456643</td>\n",
              "      <td>0.0</td>\n",
              "      <td>0.0</td>\n",
              "      <td>0.0</td>\n",
              "      <td>0.0</td>\n",
              "      <td>0.0</td>\n",
              "      <td>0.0</td>\n",
              "      <td>0.0</td>\n",
              "      <td>0.0</td>\n",
              "      <td>0.0</td>\n",
              "      <td>...</td>\n",
              "      <td>0.219286</td>\n",
              "      <td>0.117095</td>\n",
              "      <td>0.059024</td>\n",
              "      <td>0.02019</td>\n",
              "      <td>0.017238</td>\n",
              "      <td>0.002857</td>\n",
              "      <td>0.0</td>\n",
              "      <td>0.0</td>\n",
              "      <td>0.0</td>\n",
              "      <td>0.0</td>\n",
              "    </tr>\n",
              "    <tr>\n",
              "      <th>std</th>\n",
              "      <td>2.887730</td>\n",
              "      <td>0.0</td>\n",
              "      <td>0.0</td>\n",
              "      <td>0.0</td>\n",
              "      <td>0.0</td>\n",
              "      <td>0.0</td>\n",
              "      <td>0.0</td>\n",
              "      <td>0.0</td>\n",
              "      <td>0.0</td>\n",
              "      <td>0.0</td>\n",
              "      <td>...</td>\n",
              "      <td>6.312890</td>\n",
              "      <td>4.633819</td>\n",
              "      <td>3.274488</td>\n",
              "      <td>1.75987</td>\n",
              "      <td>1.894498</td>\n",
              "      <td>0.414264</td>\n",
              "      <td>0.0</td>\n",
              "      <td>0.0</td>\n",
              "      <td>0.0</td>\n",
              "      <td>0.0</td>\n",
              "    </tr>\n",
              "    <tr>\n",
              "      <th>min</th>\n",
              "      <td>0.000000</td>\n",
              "      <td>0.0</td>\n",
              "      <td>0.0</td>\n",
              "      <td>0.0</td>\n",
              "      <td>0.0</td>\n",
              "      <td>0.0</td>\n",
              "      <td>0.0</td>\n",
              "      <td>0.0</td>\n",
              "      <td>0.0</td>\n",
              "      <td>0.0</td>\n",
              "      <td>...</td>\n",
              "      <td>0.000000</td>\n",
              "      <td>0.000000</td>\n",
              "      <td>0.000000</td>\n",
              "      <td>0.00000</td>\n",
              "      <td>0.000000</td>\n",
              "      <td>0.000000</td>\n",
              "      <td>0.0</td>\n",
              "      <td>0.0</td>\n",
              "      <td>0.0</td>\n",
              "      <td>0.0</td>\n",
              "    </tr>\n",
              "    <tr>\n",
              "      <th>25%</th>\n",
              "      <td>2.000000</td>\n",
              "      <td>0.0</td>\n",
              "      <td>0.0</td>\n",
              "      <td>0.0</td>\n",
              "      <td>0.0</td>\n",
              "      <td>0.0</td>\n",
              "      <td>0.0</td>\n",
              "      <td>0.0</td>\n",
              "      <td>0.0</td>\n",
              "      <td>0.0</td>\n",
              "      <td>...</td>\n",
              "      <td>0.000000</td>\n",
              "      <td>0.000000</td>\n",
              "      <td>0.000000</td>\n",
              "      <td>0.00000</td>\n",
              "      <td>0.000000</td>\n",
              "      <td>0.000000</td>\n",
              "      <td>0.0</td>\n",
              "      <td>0.0</td>\n",
              "      <td>0.0</td>\n",
              "      <td>0.0</td>\n",
              "    </tr>\n",
              "    <tr>\n",
              "      <th>50%</th>\n",
              "      <td>4.000000</td>\n",
              "      <td>0.0</td>\n",
              "      <td>0.0</td>\n",
              "      <td>0.0</td>\n",
              "      <td>0.0</td>\n",
              "      <td>0.0</td>\n",
              "      <td>0.0</td>\n",
              "      <td>0.0</td>\n",
              "      <td>0.0</td>\n",
              "      <td>0.0</td>\n",
              "      <td>...</td>\n",
              "      <td>0.000000</td>\n",
              "      <td>0.000000</td>\n",
              "      <td>0.000000</td>\n",
              "      <td>0.00000</td>\n",
              "      <td>0.000000</td>\n",
              "      <td>0.000000</td>\n",
              "      <td>0.0</td>\n",
              "      <td>0.0</td>\n",
              "      <td>0.0</td>\n",
              "      <td>0.0</td>\n",
              "    </tr>\n",
              "    <tr>\n",
              "      <th>75%</th>\n",
              "      <td>7.000000</td>\n",
              "      <td>0.0</td>\n",
              "      <td>0.0</td>\n",
              "      <td>0.0</td>\n",
              "      <td>0.0</td>\n",
              "      <td>0.0</td>\n",
              "      <td>0.0</td>\n",
              "      <td>0.0</td>\n",
              "      <td>0.0</td>\n",
              "      <td>0.0</td>\n",
              "      <td>...</td>\n",
              "      <td>0.000000</td>\n",
              "      <td>0.000000</td>\n",
              "      <td>0.000000</td>\n",
              "      <td>0.00000</td>\n",
              "      <td>0.000000</td>\n",
              "      <td>0.000000</td>\n",
              "      <td>0.0</td>\n",
              "      <td>0.0</td>\n",
              "      <td>0.0</td>\n",
              "      <td>0.0</td>\n",
              "    </tr>\n",
              "    <tr>\n",
              "      <th>max</th>\n",
              "      <td>9.000000</td>\n",
              "      <td>0.0</td>\n",
              "      <td>0.0</td>\n",
              "      <td>0.0</td>\n",
              "      <td>0.0</td>\n",
              "      <td>0.0</td>\n",
              "      <td>0.0</td>\n",
              "      <td>0.0</td>\n",
              "      <td>0.0</td>\n",
              "      <td>0.0</td>\n",
              "      <td>...</td>\n",
              "      <td>254.000000</td>\n",
              "      <td>254.000000</td>\n",
              "      <td>253.000000</td>\n",
              "      <td>253.00000</td>\n",
              "      <td>254.000000</td>\n",
              "      <td>62.000000</td>\n",
              "      <td>0.0</td>\n",
              "      <td>0.0</td>\n",
              "      <td>0.0</td>\n",
              "      <td>0.0</td>\n",
              "    </tr>\n",
              "  </tbody>\n",
              "</table>\n",
              "<p>8 rows × 785 columns</p>\n",
              "</div>\n",
              "      <button class=\"colab-df-convert\" onclick=\"convertToInteractive('df-f6f4e0be-da18-4396-b5fd-bf9b11c8a45d')\"\n",
              "              title=\"Convert this dataframe to an interactive table.\"\n",
              "              style=\"display:none;\">\n",
              "        \n",
              "  <svg xmlns=\"http://www.w3.org/2000/svg\" height=\"24px\"viewBox=\"0 0 24 24\"\n",
              "       width=\"24px\">\n",
              "    <path d=\"M0 0h24v24H0V0z\" fill=\"none\"/>\n",
              "    <path d=\"M18.56 5.44l.94 2.06.94-2.06 2.06-.94-2.06-.94-.94-2.06-.94 2.06-2.06.94zm-11 1L8.5 8.5l.94-2.06 2.06-.94-2.06-.94L8.5 2.5l-.94 2.06-2.06.94zm10 10l.94 2.06.94-2.06 2.06-.94-2.06-.94-.94-2.06-.94 2.06-2.06.94z\"/><path d=\"M17.41 7.96l-1.37-1.37c-.4-.4-.92-.59-1.43-.59-.52 0-1.04.2-1.43.59L10.3 9.45l-7.72 7.72c-.78.78-.78 2.05 0 2.83L4 21.41c.39.39.9.59 1.41.59.51 0 1.02-.2 1.41-.59l7.78-7.78 2.81-2.81c.8-.78.8-2.07 0-2.86zM5.41 20L4 18.59l7.72-7.72 1.47 1.35L5.41 20z\"/>\n",
              "  </svg>\n",
              "      </button>\n",
              "      \n",
              "  <style>\n",
              "    .colab-df-container {\n",
              "      display:flex;\n",
              "      flex-wrap:wrap;\n",
              "      gap: 12px;\n",
              "    }\n",
              "\n",
              "    .colab-df-convert {\n",
              "      background-color: #E8F0FE;\n",
              "      border: none;\n",
              "      border-radius: 50%;\n",
              "      cursor: pointer;\n",
              "      display: none;\n",
              "      fill: #1967D2;\n",
              "      height: 32px;\n",
              "      padding: 0 0 0 0;\n",
              "      width: 32px;\n",
              "    }\n",
              "\n",
              "    .colab-df-convert:hover {\n",
              "      background-color: #E2EBFA;\n",
              "      box-shadow: 0px 1px 2px rgba(60, 64, 67, 0.3), 0px 1px 3px 1px rgba(60, 64, 67, 0.15);\n",
              "      fill: #174EA6;\n",
              "    }\n",
              "\n",
              "    [theme=dark] .colab-df-convert {\n",
              "      background-color: #3B4455;\n",
              "      fill: #D2E3FC;\n",
              "    }\n",
              "\n",
              "    [theme=dark] .colab-df-convert:hover {\n",
              "      background-color: #434B5C;\n",
              "      box-shadow: 0px 1px 3px 1px rgba(0, 0, 0, 0.15);\n",
              "      filter: drop-shadow(0px 1px 2px rgba(0, 0, 0, 0.3));\n",
              "      fill: #FFFFFF;\n",
              "    }\n",
              "  </style>\n",
              "\n",
              "      <script>\n",
              "        const buttonEl =\n",
              "          document.querySelector('#df-f6f4e0be-da18-4396-b5fd-bf9b11c8a45d button.colab-df-convert');\n",
              "        buttonEl.style.display =\n",
              "          google.colab.kernel.accessAllowed ? 'block' : 'none';\n",
              "\n",
              "        async function convertToInteractive(key) {\n",
              "          const element = document.querySelector('#df-f6f4e0be-da18-4396-b5fd-bf9b11c8a45d');\n",
              "          const dataTable =\n",
              "            await google.colab.kernel.invokeFunction('convertToInteractive',\n",
              "                                                     [key], {});\n",
              "          if (!dataTable) return;\n",
              "\n",
              "          const docLinkHtml = 'Like what you see? Visit the ' +\n",
              "            '<a target=\"_blank\" href=https://colab.research.google.com/notebooks/data_table.ipynb>data table notebook</a>'\n",
              "            + ' to learn more about interactive tables.';\n",
              "          element.innerHTML = '';\n",
              "          dataTable['output_type'] = 'display_data';\n",
              "          await google.colab.output.renderOutput(dataTable, element);\n",
              "          const docLink = document.createElement('div');\n",
              "          docLink.innerHTML = docLinkHtml;\n",
              "          element.appendChild(docLink);\n",
              "        }\n",
              "      </script>\n",
              "    </div>\n",
              "  </div>\n",
              "  "
            ]
          },
          "metadata": {},
          "execution_count": 5
        }
      ]
    },
    {
      "cell_type": "code",
      "source": [
        "mnist_train.isna().any().any()"
      ],
      "metadata": {
        "colab": {
          "base_uri": "https://localhost:8080/"
        },
        "id": "bOHt3hZV7saQ",
        "outputId": "7bb6cb7f-72f6-48f0-bd5d-d5270a1f0115"
      },
      "execution_count": null,
      "outputs": [
        {
          "output_type": "execute_result",
          "data": {
            "text/plain": [
              "False"
            ]
          },
          "metadata": {},
          "execution_count": 6
        }
      ]
    },
    {
      "cell_type": "code",
      "source": [
        "mnist_train_data = mnist_train.loc[:, \"pixel0\":]\n",
        "mnist_train_label = mnist_train.loc[:, \"label\"]\n",
        "\n",
        "mnist_train_data = mnist_train_data/255.0\n",
        "mnist_test = mnist_test/255.0"
      ],
      "metadata": {
        "id": "cff4QBrt7v_F"
      },
      "execution_count": null,
      "outputs": []
    },
    {
      "cell_type": "code",
      "source": [
        "\n",
        "digit_array = mnist_train.loc[3, \"pixel0\":]\n",
        "arr = np.array(digit_array) \n",
        "\n",
        "\n",
        "image_array = np.reshape(arr, (28,28))\n",
        "\n",
        "digit_img = plt.imshow(image_array, cmap=plt.cm.binary)\n",
        "plt.colorbar(digit_img)\n",
        "print(\"IMAGE LABEL: {}\".format(mnist_train.loc[3, \"label\"]))"
      ],
      "metadata": {
        "colab": {
          "base_uri": "https://localhost:8080/",
          "height": 283
        },
        "id": "OcgfyhwU7yKj",
        "outputId": "0c4649ac-b98c-4659-8e1e-11b3a9f64f15"
      },
      "execution_count": null,
      "outputs": [
        {
          "output_type": "stream",
          "name": "stdout",
          "text": [
            "IMAGE LABEL: 4\n"
          ]
        },
        {
          "output_type": "display_data",
          "data": {
            "text/plain": [
              "<Figure size 432x288 with 2 Axes>"
            ],
            "image/png": "[encoded data removed]"
          },
          "metadata": {
            "needs_background": "light"
          }
        }
      ]
    },
    {
      "cell_type": "code",
      "source": [
        "\n",
        "digit_array = mnist_train.loc[4, \"pixel0\":]\n",
        "arr = np.array(digit_array) \n",
        "\n",
        "\n",
        "image_array = np.reshape(arr, (28,28))\n",
        "\n",
        "digit_img = plt.imshow(image_array, cmap=plt.cm.binary)\n",
        "plt.colorbar(digit_img)\n",
        "print(\"IMAGE LABEL: {}\".format(mnist_train.loc[4, \"label\"]))"
      ],
      "metadata": {
        "colab": {
          "base_uri": "https://localhost:8080/",
          "height": 284
        },
        "id": "FY9HG4XQ70eM",
        "outputId": "b35604ae-b00a-4cfe-aac3-597092987eee"
      },
      "execution_count": null,
      "outputs": [
        {
          "output_type": "stream",
          "name": "stdout",
          "text": [
            "IMAGE LABEL: 0\n"
          ]
        },
        {
          "output_type": "display_data",
          "data": {
            "text/plain": [
              "<Figure size 432x288 with 2 Axes>"
            ],
            "image/png": "[encoded data removed]"
          },
          "metadata": {
            "needs_background": "light"
          }
        }
      ]
    },
    {
      "cell_type": "code",
      "source": [
        "sns.countplot(mnist_train.label)\n",
        "print(list(mnist_train.label.value_counts().sort_index()))"
      ],
      "metadata": {
        "colab": {
          "base_uri": "https://localhost:8080/",
          "height": 353
        },
        "id": "3FmqDtCM71DP",
        "outputId": "ffd5191b-9405-440b-e709-d5487cdbe84e"
      },
      "execution_count": null,
      "outputs": [
        {
          "output_type": "stream",
          "name": "stdout",
          "text": [
            "[4132, 4684, 4177, 4351, 4072, 3795, 4137, 4401, 4063, 4188]\n"
          ]
        },
        {
          "output_type": "stream",
          "name": "stderr",
          "text": [
            "/usr/local/lib/python3.7/dist-packages/seaborn/_decorators.py:43: FutureWarning: Pass the following variable as a keyword arg: x. From version 0.12, the only valid positional argument will be `data`, and passing other arguments without an explicit keyword will result in an error or misinterpretation.\n",
            "  FutureWarning\n"
          ]
        },
        {
          "output_type": "display_data",
          "data": {
            "text/plain": [
              "<Figure size 432x288 with 1 Axes>"
            ],
            "image/png": "[encoded data removed]"
          },
          "metadata": {
            "needs_background": "light"
          }
        }
      ]
    },
    {
      "cell_type": "code",
      "source": [
        "mnist_train_data = np.array(mnist_train_data)\n",
        "mnist_train_label = np.array(mnist_train_label)"
      ],
      "metadata": {
        "id": "kGFA8ZKJ75-q"
      },
      "execution_count": null,
      "outputs": []
    },
    {
      "cell_type": "code",
      "source": [
        "mnist_train_data = mnist_train_data.reshape(mnist_train_data.shape[0], 28, 28, 1)\n",
        "print(mnist_train_data.shape, mnist_train_label.shape)"
      ],
      "metadata": {
        "colab": {
          "base_uri": "https://localhost:8080/"
        },
        "id": "UXUveS-t78J8",
        "outputId": "0c120d04-b0bd-470a-ff7c-3e91447fcf84"
      },
      "execution_count": null,
      "outputs": [
        {
          "output_type": "stream",
          "name": "stdout",
          "text": [
            "(42000, 28, 28, 1) (42000,)\n"
          ]
        }
      ]
    },
    {
      "cell_type": "code",
      "source": [
        "from tensorflow.keras.models import Sequential\n",
        "from tensorflow.keras.layers import Dense, Dropout, Lambda, Flatten, BatchNormalization\n",
        "from tensorflow.keras.layers import Conv2D, MaxPool2D, AvgPool2D\n",
        "from tensorflow.keras.optimizers import Adadelta\n",
        "from keras.utils.np_utils import to_categorical\n",
        "from tensorflow.keras.preprocessing.image import ImageDataGenerator\n",
        "from tensorflow.keras.callbacks import ReduceLROnPlateau\n",
        "from tensorflow.keras.callbacks import LearningRateScheduler"
      ],
      "metadata": {
        "id": "UPPpoRIt8K0_"
      },
      "execution_count": null,
      "outputs": []
    },
    {
      "cell_type": "code",
      "source": [
        "nclasses = mnist_train_label.max() - mnist_train_label.min() + 1\n",
        "mnist_train_label = to_categorical(mnist_train_label, num_classes = nclasses)\n",
        "print(\"Shape:\", mnist_train_label.shape)"
      ],
      "metadata": {
        "colab": {
          "base_uri": "https://localhost:8080/"
        },
        "id": "mDWXnwpb8Nja",
        "outputId": "c5234f8b-5de4-4aa5-b63f-7ed94d292a86"
      },
      "execution_count": null,
      "outputs": [
        {
          "output_type": "stream",
          "name": "stdout",
          "text": [
            "Shape: (42000, 10)\n"
          ]
        }
      ]
    },
    {
      "cell_type": "code",
      "source": [
        "def build_model(input_shape=(28, 28, 1)):\n",
        "    model = Sequential()     \n",
        "    model.add(Conv2D(32, kernel_size = 3, activation='relu', input_shape = input_shape)) \n",
        "    model.add(BatchNormalization()) \n",
        "    model.add(Conv2D(32, kernel_size = 3, activation='relu')) \n",
        "    model.add(BatchNormalization())\n",
        "    model.add(Conv2D(32, kernel_size = 5, strides=2, padding='same', activation='relu'))\n",
        "    model.add(BatchNormalization())\n",
        "    model.add(Dropout(0.4))\n",
        "    model.add(Conv2D(64, kernel_size = 3, activation='relu'))\n",
        "    model.add(BatchNormalization())\n",
        "    model.add(Conv2D(64, kernel_size = 3, activation='relu'))\n",
        "    model.add(BatchNormalization())\n",
        "    model.add(Conv2D(64, kernel_size = 5, strides=2, padding='same', activation='relu'))\n",
        "    model.add(BatchNormalization())\n",
        "    model.add(Dropout(0.4))\n",
        "    model.add(Conv2D(128, kernel_size = 4, activation='relu'))\n",
        "    model.add(BatchNormalization())\n",
        "    model.add(Flatten())\n",
        "    model.add(Dropout(0.4))\n",
        "    model.add(Dense(10, activation='softmax')) \n",
        "    return model "
      ],
      "metadata": {
        "id": "lBd_065Z8S7_"
      },
      "execution_count": null,
      "outputs": []
    },
    {
      "cell_type": "code",
      "source": [
        "def compile_model(model, optimizer='adam', loss='categorical_crossentropy'):\n",
        "    model.compile(optimizer=optimizer, loss=loss, metrics=[\"accuracy\"]) \n",
        "    \n",
        "def train_model(model, train, test, epochs, split):\n",
        "    history = model.fit(train, test, shuffle=True, epochs=epochs, validation_split=split)\n",
        "    return history "
      ],
      "metadata": {
        "id": "NdoRfSjX8WJN"
      },
      "execution_count": null,
      "outputs": []
    },
    {
      "cell_type": "code",
      "source": [
        "cnn_model = build_model((28, 28, 1)) \n",
        "compile_model(cnn_model, 'adam', 'categorical_crossentropy')\n",
        "\n",
        "\n",
        "model_history = train_model(cnn_model, mnist_train_data, mnist_train_label, 50, 0.2)"
      ],
      "metadata": {
        "colab": {
          "base_uri": "https://localhost:8080/"
        },
        "id": "MeJFij6x8ZUk",
        "outputId": "2a0ad2c9-ce4d-4987-c844-e5bdb07ebfd7"
      },
      "execution_count": null,
      "outputs": [
        {
          "output_type": "stream",
          "name": "stdout",
          "text": [
            "Epoch 1/50\n",
            "1050/1050 [==============================] - 162s 153ms/step - loss: 0.2499 - accuracy: 0.9238 - val_loss: 0.0516 - val_accuracy: 0.9826\n",
            "Epoch 2/50\n",
            "1050/1050 [==============================] - 166s 158ms/step - loss: 0.0827 - accuracy: 0.9740 - val_loss: 0.0499 - val_accuracy: 0.9837\n",
            "Epoch 3/50\n",
            "1050/1050 [==============================] - 164s 156ms/step - loss: 0.0635 - accuracy: 0.9812 - val_loss: 0.0404 - val_accuracy: 0.9888\n",
            "Epoch 4/50\n",
            "1050/1050 [==============================] - 161s 153ms/step - loss: 0.0567 - accuracy: 0.9830 - val_loss: 0.0308 - val_accuracy: 0.9913\n",
            "Epoch 5/50\n",
            "1050/1050 [==============================] - 163s 156ms/step - loss: 0.0482 - accuracy: 0.9841 - val_loss: 0.0365 - val_accuracy: 0.9911\n",
            "Epoch 6/50\n",
            "1050/1050 [==============================] - 165s 157ms/step - loss: 0.0469 - accuracy: 0.9852 - val_loss: 0.0438 - val_accuracy: 0.9870\n",
            "Epoch 7/50\n",
            "1050/1050 [==============================] - 164s 156ms/step - loss: 0.0425 - accuracy: 0.9875 - val_loss: 0.0289 - val_accuracy: 0.9908\n",
            "Epoch 8/50\n",
            "1050/1050 [==============================] - 162s 154ms/step - loss: 0.0402 - accuracy: 0.9876 - val_loss: 0.0389 - val_accuracy: 0.9896\n",
            "Epoch 9/50\n",
            "1050/1050 [==============================] - 165s 157ms/step - loss: 0.0358 - accuracy: 0.9888 - val_loss: 0.0276 - val_accuracy: 0.9917\n",
            "Epoch 10/50\n",
            "1050/1050 [==============================] - 165s 157ms/step - loss: 0.0316 - accuracy: 0.9902 - val_loss: 0.0303 - val_accuracy: 0.9925\n",
            "Epoch 11/50\n",
            "1050/1050 [==============================] - 170s 162ms/step - loss: 0.0293 - accuracy: 0.9911 - val_loss: 0.0256 - val_accuracy: 0.9933\n",
            "Epoch 12/50\n",
            "1050/1050 [==============================] - 164s 157ms/step - loss: 0.0286 - accuracy: 0.9913 - val_loss: 0.0292 - val_accuracy: 0.9918\n",
            "Epoch 13/50\n",
            "1050/1050 [==============================] - 166s 158ms/step - loss: 0.0256 - accuracy: 0.9919 - val_loss: 0.0290 - val_accuracy: 0.9929\n",
            "Epoch 14/50\n",
            "1050/1050 [==============================] - 167s 159ms/step - loss: 0.0237 - accuracy: 0.9925 - val_loss: 0.0274 - val_accuracy: 0.9927\n",
            "Epoch 15/50\n",
            "1050/1050 [==============================] - 166s 159ms/step - loss: 0.0222 - accuracy: 0.9933 - val_loss: 0.0248 - val_accuracy: 0.9939\n",
            "Epoch 16/50\n",
            "1050/1050 [==============================] - 167s 159ms/step - loss: 0.0211 - accuracy: 0.9932 - val_loss: 0.0272 - val_accuracy: 0.9932\n",
            "Epoch 17/50\n",
            "1050/1050 [==============================] - 165s 157ms/step - loss: 0.0170 - accuracy: 0.9945 - val_loss: 0.0342 - val_accuracy: 0.9931\n",
            "Epoch 18/50\n",
            "1050/1050 [==============================] - 167s 159ms/step - loss: 0.0189 - accuracy: 0.9943 - val_loss: 0.0359 - val_accuracy: 0.9910\n",
            "Epoch 19/50\n",
            "1050/1050 [==============================] - 167s 159ms/step - loss: 0.0161 - accuracy: 0.9948 - val_loss: 0.0307 - val_accuracy: 0.9932\n",
            "Epoch 20/50\n",
            "1050/1050 [==============================] - 167s 159ms/step - loss: 0.0155 - accuracy: 0.9947 - val_loss: 0.0330 - val_accuracy: 0.9936\n",
            "Epoch 21/50\n",
            "1050/1050 [==============================] - 170s 162ms/step - loss: 0.0140 - accuracy: 0.9952 - val_loss: 0.0289 - val_accuracy: 0.9938\n",
            "Epoch 22/50\n",
            "1050/1050 [==============================] - 175s 166ms/step - loss: 0.0167 - accuracy: 0.9948 - val_loss: 0.0295 - val_accuracy: 0.9936\n",
            "Epoch 23/50\n",
            "1050/1050 [==============================] - 176s 167ms/step - loss: 0.0149 - accuracy: 0.9950 - val_loss: 0.0275 - val_accuracy: 0.9939\n",
            "Epoch 24/50\n",
            "1050/1050 [==============================] - 174s 166ms/step - loss: 0.0133 - accuracy: 0.9955 - val_loss: 0.0347 - val_accuracy: 0.9921\n",
            "Epoch 25/50\n",
            "1050/1050 [==============================] - 173s 164ms/step - loss: 0.0130 - accuracy: 0.9956 - val_loss: 0.0266 - val_accuracy: 0.9946\n",
            "Epoch 26/50\n",
            "1050/1050 [==============================] - 171s 163ms/step - loss: 0.0149 - accuracy: 0.9956 - val_loss: 0.0272 - val_accuracy: 0.9939\n",
            "Epoch 27/50\n",
            "1050/1050 [==============================] - 173s 165ms/step - loss: 0.0096 - accuracy: 0.9966 - val_loss: 0.0271 - val_accuracy: 0.9945\n",
            "Epoch 28/50\n",
            "1050/1050 [==============================] - 173s 165ms/step - loss: 0.0101 - accuracy: 0.9964 - val_loss: 0.0312 - val_accuracy: 0.9943\n",
            "Epoch 29/50\n",
            "1050/1050 [==============================] - 173s 164ms/step - loss: 0.0107 - accuracy: 0.9965 - val_loss: 0.0324 - val_accuracy: 0.9936\n",
            "Epoch 30/50\n",
            "1050/1050 [==============================] - 172s 164ms/step - loss: 0.0103 - accuracy: 0.9970 - val_loss: 0.0255 - val_accuracy: 0.9948\n",
            "Epoch 31/50\n",
            "1050/1050 [==============================] - 169s 161ms/step - loss: 0.0082 - accuracy: 0.9975 - val_loss: 0.0294 - val_accuracy: 0.9937\n",
            "Epoch 32/50\n",
            "1050/1050 [==============================] - 171s 163ms/step - loss: 0.0103 - accuracy: 0.9966 - val_loss: 0.0298 - val_accuracy: 0.9944\n",
            "Epoch 33/50\n",
            "1050/1050 [==============================] - 170s 162ms/step - loss: 0.0099 - accuracy: 0.9965 - val_loss: 0.0284 - val_accuracy: 0.9945\n",
            "Epoch 34/50\n",
            "1050/1050 [==============================] - 172s 164ms/step - loss: 0.0085 - accuracy: 0.9972 - val_loss: 0.0266 - val_accuracy: 0.9948\n",
            "Epoch 35/50\n",
            "1050/1050 [==============================] - 170s 162ms/step - loss: 0.0099 - accuracy: 0.9969 - val_loss: 0.0361 - val_accuracy: 0.9940\n",
            "Epoch 36/50\n",
            "1050/1050 [==============================] - 174s 166ms/step - loss: 0.0099 - accuracy: 0.9971 - val_loss: 0.0321 - val_accuracy: 0.9942\n",
            "Epoch 37/50\n",
            "1050/1050 [==============================] - 173s 165ms/step - loss: 0.0069 - accuracy: 0.9976 - val_loss: 0.0306 - val_accuracy: 0.9940\n",
            "Epoch 38/50\n",
            "1050/1050 [==============================] - 171s 163ms/step - loss: 0.0084 - accuracy: 0.9972 - val_loss: 0.0302 - val_accuracy: 0.9944\n",
            "Epoch 39/50\n",
            "1050/1050 [==============================] - 173s 165ms/step - loss: 0.0080 - accuracy: 0.9975 - val_loss: 0.0332 - val_accuracy: 0.9939\n",
            "Epoch 40/50\n",
            "1050/1050 [==============================] - 174s 166ms/step - loss: 0.0069 - accuracy: 0.9976 - val_loss: 0.0310 - val_accuracy: 0.9938\n",
            "Epoch 41/50\n",
            "1050/1050 [==============================] - 169s 161ms/step - loss: 0.0065 - accuracy: 0.9980 - val_loss: 0.0320 - val_accuracy: 0.9950\n",
            "Epoch 42/50\n",
            "1050/1050 [==============================] - 174s 166ms/step - loss: 0.0066 - accuracy: 0.9980 - val_loss: 0.0310 - val_accuracy: 0.9944\n",
            "Epoch 43/50\n",
            "1050/1050 [==============================] - 174s 165ms/step - loss: 0.0078 - accuracy: 0.9975 - val_loss: 0.0361 - val_accuracy: 0.9930\n",
            "Epoch 44/50\n",
            "1050/1050 [==============================] - 174s 165ms/step - loss: 0.0067 - accuracy: 0.9976 - val_loss: 0.0319 - val_accuracy: 0.9948\n",
            "Epoch 45/50\n",
            "1050/1050 [==============================] - 168s 160ms/step - loss: 0.0058 - accuracy: 0.9981 - val_loss: 0.0293 - val_accuracy: 0.9937\n",
            "Epoch 46/50\n",
            "1050/1050 [==============================] - 172s 164ms/step - loss: 0.0054 - accuracy: 0.9985 - val_loss: 0.0314 - val_accuracy: 0.9939\n",
            "Epoch 47/50\n",
            "1050/1050 [==============================] - 169s 161ms/step - loss: 0.0090 - accuracy: 0.9972 - val_loss: 0.0332 - val_accuracy: 0.9943\n",
            "Epoch 48/50\n",
            "1050/1050 [==============================] - 168s 160ms/step - loss: 0.0067 - accuracy: 0.9979 - val_loss: 0.0309 - val_accuracy: 0.9954\n",
            "Epoch 49/50\n",
            "1050/1050 [==============================] - 171s 162ms/step - loss: 0.0064 - accuracy: 0.9981 - val_loss: 0.0283 - val_accuracy: 0.9954\n",
            "Epoch 50/50\n",
            "1050/1050 [==============================] - 166s 158ms/step - loss: 0.0056 - accuracy: 0.9982 - val_loss: 0.0280 - val_accuracy: 0.9950\n"
          ]
        }
      ]
    },
    {
      "cell_type": "code",
      "source": [
        "cnn_model.summary()"
      ],
      "metadata": {
        "colab": {
          "base_uri": "https://localhost:8080/"
        },
        "id": "VKY3f5t8piY-",
        "outputId": "66321a27-50d1-4844-91a6-7d07d65c560d"
      },
      "execution_count": null,
      "outputs": [
        {
          "output_type": "stream",
          "name": "stdout",
          "text": [
            "Model: \"sequential\"\n",
            "_________________________________________________________________\n",
            " Layer (type)                Output Shape              Param #   \n",
            "=================================================================\n",
            " conv2d (Conv2D)             (None, 26, 26, 32)        320       \n",
            "                                                                 \n",
            " batch_normalization (BatchN  (None, 26, 26, 32)       128       \n",
            " ormalization)                                                   \n",
            "                                                                 \n",
            " conv2d_1 (Conv2D)           (None, 24, 24, 32)        9248      \n",
            "                                                                 \n",
            " batch_normalization_1 (Batc  (None, 24, 24, 32)       128       \n",
            " hNormalization)                                                 \n",
            "                                                                 \n",
            " conv2d_2 (Conv2D)           (None, 12, 12, 32)        25632     \n",
            "                                                                 \n",
            " batch_normalization_2 (Batc  (None, 12, 12, 32)       128       \n",
            " hNormalization)                                                 \n",
            "                                                                 \n",
            " dropout (Dropout)           (None, 12, 12, 32)        0         \n",
            "                                                                 \n",
            " conv2d_3 (Conv2D)           (None, 10, 10, 64)        18496     \n",
            "                                                                 \n",
            " batch_normalization_3 (Batc  (None, 10, 10, 64)       256       \n",
            " hNormalization)                                                 \n",
            "                                                                 \n",
            " conv2d_4 (Conv2D)           (None, 8, 8, 64)          36928     \n",
            "                                                                 \n",
            " batch_normalization_4 (Batc  (None, 8, 8, 64)         256       \n",
            " hNormalization)                                                 \n",
            "                                                                 \n",
            " conv2d_5 (Conv2D)           (None, 4, 4, 64)          102464    \n",
            "                                                                 \n",
            " batch_normalization_5 (Batc  (None, 4, 4, 64)         256       \n",
            " hNormalization)                                                 \n",
            "                                                                 \n",
            " dropout_1 (Dropout)         (None, 4, 4, 64)          0         \n",
            "                                                                 \n",
            " conv2d_6 (Conv2D)           (None, 1, 1, 128)         131200    \n",
            "                                                                 \n",
            " batch_normalization_6 (Batc  (None, 1, 1, 128)        512       \n",
            " hNormalization)                                                 \n",
            "                                                                 \n",
            " flatten (Flatten)           (None, 128)               0         \n",
            "                                                                 \n",
            " dropout_2 (Dropout)         (None, 128)               0         \n",
            "                                                                 \n",
            " dense (Dense)               (None, 10)                1290      \n",
            "                                                                 \n",
            "=================================================================\n",
            "Total params: 327,242\n",
            "Trainable params: 326,410\n",
            "Non-trainable params: 832\n",
            "_________________________________________________________________\n"
          ]
        }
      ]
    },
    {
      "cell_type": "code",
      "source": [
        "def plot_model_performance(metric, validations_metric):\n",
        "    plt.plot(model_history.history[metric],label = str('Training ' + metric))\n",
        "    plt.plot(model_history.history[validations_metric],label = str('Validation ' + metric))\n",
        "    plt.legend()"
      ],
      "metadata": {
        "id": "QJx-bAsC8d39"
      },
      "execution_count": null,
      "outputs": []
    },
    {
      "cell_type": "code",
      "source": [
        "plot_model_performance('accuracy', 'val_accuracy')"
      ],
      "metadata": {
        "colab": {
          "base_uri": "https://localhost:8080/",
          "height": 265
        },
        "id": "ZvJ7sCfh8hYH",
        "outputId": "67ac2845-2a0c-4a55-e690-436c6e0d2279"
      },
      "execution_count": null,
      "outputs": [
        {
          "output_type": "display_data",
          "data": {
            "text/plain": [
              "<Figure size 432x288 with 1 Axes>"
            ],
            "image/png": "[encoded data removed]"
          },
          "metadata": {
            "needs_background": "light"
          }
        }
      ]
    },
    {
      "cell_type": "code",
      "source": [
        "plot_model_performance('loss', 'val_loss')"
      ],
      "metadata": {
        "colab": {
          "base_uri": "https://localhost:8080/",
          "height": 265
        },
        "id": "0ElIOZ4K8jwE",
        "outputId": "8b6c905a-38bb-41b1-8477-64df854f2173"
      },
      "execution_count": null,
      "outputs": [
        {
          "output_type": "display_data",
          "data": {
            "text/plain": [
              "<Figure size 432x288 with 1 Axes>"
            ],
            "image/png": "[encoded data removed]"
          },
          "metadata": {
            "needs_background": "light"
          }
        }
      ]
    },
    {
      "cell_type": "code",
      "source": [
        "mnist_test_arr = np.array(mnist_test)\n",
        "mnist_test_arr = mnist_test_arr.reshape(mnist_test_arr.shape[0], 28, 28, 1)\n",
        "print(mnist_test_arr.shape)"
      ],
      "metadata": {
        "colab": {
          "base_uri": "https://localhost:8080/"
        },
        "id": "N8K5BaMXhdCL",
        "outputId": "cf027b18-94ea-4de1-b97b-ee88eddb18f2"
      },
      "execution_count": null,
      "outputs": [
        {
          "output_type": "stream",
          "name": "stdout",
          "text": [
            "(28000, 28, 28, 1)\n"
          ]
        }
      ]
    },
    {
      "cell_type": "code",
      "source": [
        "predictions = cnn_model.predict(mnist_test_arr)"
      ],
      "metadata": {
        "colab": {
          "base_uri": "https://localhost:8080/"
        },
        "id": "RgqGqBpAholJ",
        "outputId": "05506271-cd34-405d-8a04-e309aa90f2c6"
      },
      "execution_count": null,
      "outputs": [
        {
          "output_type": "stream",
          "name": "stdout",
          "text": [
            "875/875 [==============================] - 32s 36ms/step\n"
          ]
        }
      ]
    },
    {
      "cell_type": "code",
      "source": [
        "predictions"
      ],
      "metadata": {
        "colab": {
          "base_uri": "https://localhost:8080/"
        },
        "id": "ghCgdWvpcqCO",
        "outputId": "0989cdef-8d63-46ab-8f92-74a9eb12d4ad"
      },
      "execution_count": null,
      "outputs": [
        {
          "output_type": "execute_result",
          "data": {
            "text/plain": [
              "array([[2.10220161e-14, 4.15403142e-16, 9.99999940e-01, ...,\n",
              "        4.25110468e-13, 1.56336820e-14, 3.29625216e-13],\n",
              "       [9.99999940e-01, 1.19853615e-11, 1.48313209e-10, ...,\n",
              "        2.00713682e-10, 2.72157626e-11, 9.21168142e-11],\n",
              "       [2.03673688e-12, 4.03036181e-11, 1.67346117e-12, ...,\n",
              "        1.56921993e-11, 7.88174907e-12, 9.99999940e-01],\n",
              "       ...,\n",
              "       [1.22228390e-16, 7.59731023e-14, 7.65870038e-16, ...,\n",
              "        1.35742383e-13, 3.08576915e-14, 3.78966010e-13],\n",
              "       [1.61316949e-11, 3.84672719e-12, 7.22961101e-12, ...,\n",
              "        1.63698326e-11, 7.24472240e-13, 9.99999940e-01],\n",
              "       [1.88000467e-13, 6.50105105e-14, 9.99999940e-01, ...,\n",
              "        1.94506260e-12, 1.92374437e-12, 9.13104661e-13]], dtype=float32)"
            ]
          },
          "metadata": {},
          "execution_count": 31
        }
      ]
    },
    {
      "cell_type": "code",
      "source": [
        "predictions_test = []\n",
        "\n",
        "for i in predictions:\n",
        "    predictions_test.append(np.argmax(i))"
      ],
      "metadata": {
        "id": "Tt9Zm6Khioog"
      },
      "execution_count": null,
      "outputs": []
    },
    {
      "cell_type": "code",
      "source": [
        "predictions_test"
      ],
      "metadata": {
        "id": "hfNIdRJhcyD8"
      },
      "execution_count": null,
      "outputs": []
    },
    {
      "cell_type": "code",
      "source": [
        "results = cnn_model.evaluate(mnist_test_arr, predictions, batch_size=128)"
      ],
      "metadata": {
        "colab": {
          "base_uri": "https://localhost:8080/"
        },
        "id": "nZk9uFFziSP_",
        "outputId": "77771dc0-bf68-46be-b8cc-36dfd216507b"
      },
      "execution_count": null,
      "outputs": [
        {
          "output_type": "stream",
          "name": "stdout",
          "text": [
            "219/219 [==============================] - 25s 112ms/step - loss: 0.0052 - accuracy: 1.0000\n"
          ]
        }
      ]
    },
    {
      "cell_type": "code",
      "source": [
        "cnn_model.save(\"my_model\")"
      ],
      "metadata": {
        "colab": {
          "base_uri": "https://localhost:8080/"
        },
        "id": "doFpUB8S5XZ-",
        "outputId": "3d8fbec3-7f4a-43c1-e347-02f6fc1b5bbd"
      },
      "execution_count": null,
      "outputs": [
        {
          "output_type": "stream",
          "name": "stderr",
          "text": [
            "WARNING:absl:Found untraced functions such as _jit_compiled_convolution_op, _jit_compiled_convolution_op, _jit_compiled_convolution_op, _jit_compiled_convolution_op, _jit_compiled_convolution_op while saving (showing 5 of 7). These functions will not be directly callable after loading.\n"
          ]
        }
      ]
    },
    {
      "cell_type": "code",
      "source": [
        "!zip -r /content/savedModel.zip /content/saved_model/"
      ],
      "metadata": {
        "colab": {
          "base_uri": "https://localhost:8080/"
        },
        "id": "zcQ_dOcGbt__",
        "outputId": "04c8fb99-4a55-4748-bd05-7a409fe4e7ac"
      },
      "execution_count": null,
      "outputs": [
        {
          "output_type": "stream",
          "name": "stdout",
          "text": [
            "  adding: content/saved_model/ (stored 0%)\n",
            "  adding: content/saved_model/variables/ (stored 0%)\n",
            "  adding: content/saved_model/variables/variables.data-00000-of-00001 (deflated 8%)\n",
            "  adding: content/saved_model/variables/variables.index (deflated 75%)\n",
            "  adding: content/saved_model/saved_model.pb (deflated 90%)\n",
            "  adding: content/saved_model/assets/ (stored 0%)\n",
            "  adding: content/saved_model/keras_metadata.pb (deflated 94%)\n"
          ]
        }
      ]
    }
  ]
}